{
 "cells": [
  {
   "cell_type": "code",
   "execution_count": 8,
   "metadata": {
    "collapsed": true
   },
   "outputs": [
    {
     "name": "stdout",
     "output_type": "stream",
     "text": [
      "True\n",
      "False\n",
      "True\n",
      "False\n"
     ]
    }
   ],
   "source": [
    "# R-1.1\n",
    "def is_multiple(n, m):\n",
    "    if m%n == 0:\n",
    "        return True\n",
    "    else:\n",
    "        return False\n",
    "print(is_multiple(2, 10))\n",
    "print(is_multiple(2, 11))\n",
    "print(is_multiple(-2, -10))\n",
    "print(is_multiple(-2, -11))"
   ]
  },
  {
   "cell_type": "code",
   "execution_count": 1,
   "outputs": [
    {
     "name": "stdout",
     "output_type": "stream",
     "text": [
      "False\n",
      "True\n",
      "False\n",
      "True\n",
      "True\n",
      "False\n"
     ]
    }
   ],
   "source": [
    "# R-1.2 bitwise AND\n",
    "def is_even(k):\n",
    "    if k & 1:\n",
    "        return False\n",
    "    else:\n",
    "        return True\n",
    "print(is_even(1))\n",
    "print(is_even(2))\n",
    "print(is_even(3))\n",
    "print(is_even(0))\n",
    "print(is_even(-2))\n",
    "print(is_even(-3))"
   ],
   "metadata": {
    "collapsed": false
   }
  },
  {
   "cell_type": "code",
   "execution_count": 1,
   "outputs": [
    {
     "name": "stdout",
     "output_type": "stream",
     "text": [
      "(-10, 100)\n",
      "(-100, 100)\n"
     ]
    }
   ],
   "source": [
    "# R-1.3\n",
    "def minmax(data):\n",
    "    minimum = data[0]\n",
    "    maximum = data[0]\n",
    "    for item in data:\n",
    "        if item < minimum:\n",
    "            minimum = item\n",
    "        if item > maximum:\n",
    "            maximum = item\n",
    "    return minimum, maximum\n",
    "print(minmax([1, 10, -10, 0, 100]))\n",
    "print(minmax([1, 100, -1, 0, -100]))"
   ],
   "metadata": {
    "collapsed": false
   }
  },
  {
   "cell_type": "code",
   "execution_count": 48,
   "outputs": [
    {
     "name": "stdout",
     "output_type": "stream",
     "text": [
      "0\n",
      "0\n",
      "1\n",
      "5\n",
      "30\n",
      "285\n"
     ]
    }
   ],
   "source": [
    "# R-1.5\n",
    "def sum_power_of_two(n):\n",
    "    if n < 0:\n",
    "        raise ValueError('n must be positive')\n",
    "    return sum([i**2 for i in range(n)])\n",
    "print(sum_power_of_two(0))\n",
    "print(sum_power_of_two(1))\n",
    "print(sum_power_of_two(2))\n",
    "print(sum_power_of_two(3))\n",
    "print(sum_power_of_two(5))\n",
    "print(sum_power_of_two(10))"
   ],
   "metadata": {
    "collapsed": false
   }
  },
  {
   "cell_type": "code",
   "execution_count": 53,
   "outputs": [
    {
     "name": "stdout",
     "output_type": "stream",
     "text": [
      "[8, 6, 4, 2, 0, -2, -4, -6, -8]\n"
     ]
    }
   ],
   "source": [
    "# R-1.10\n",
    "print([item for item in range(8, -10 ,-2)])"
   ],
   "metadata": {
    "collapsed": false
   }
  },
  {
   "cell_type": "code",
   "execution_count": 58,
   "outputs": [
    {
     "name": "stdout",
     "output_type": "stream",
     "text": [
      "[1, 2, 4, 8, 16, 32, 64, 128, 256]\n"
     ]
    }
   ],
   "source": [
    "# R-1.11\n",
    "print([2**item for item in range(9)])"
   ],
   "metadata": {
    "collapsed": false
   }
  },
  {
   "cell_type": "code",
   "execution_count": 97,
   "outputs": [
    {
     "name": "stdout",
     "output_type": "stream",
     "text": [
      "7\n"
     ]
    }
   ],
   "source": [
    "# R-1.12\n",
    "from random import randrange\n",
    "\n",
    "def choice(data):\n",
    "    return data[randrange(len(data))]\n",
    "\n",
    "print(choice([1, 5, 67, 7, -100]))"
   ],
   "metadata": {
    "collapsed": false
   }
  },
  {
   "cell_type": "code",
   "execution_count": null,
   "outputs": [],
   "source": [
    "# C-1.13\n",
    "# Use https://mermaid-js.github.io/mermaid/#/flowchart\n",
    "# https://users.csc.calpoly.edu/~jdalbey/SWE/pdl_std.html"
   ],
   "metadata": {
    "collapsed": false
   }
  },
  {
   "cell_type": "code",
   "execution_count": 6,
   "outputs": [
    {
     "name": "stdout",
     "output_type": "stream",
     "text": [
      "True\n",
      "False\n"
     ]
    }
   ],
   "source": [
    "# C-1.15\n",
    "def is_distinct(data):\n",
    "    return len(data) == len(set(data))\n",
    "\n",
    "print(is_distinct([1, 2, 3, 4, 5]))\n",
    "print(is_distinct([1, 2, 3, 3, 5]))"
   ],
   "metadata": {
    "collapsed": false
   }
  },
  {
   "cell_type": "code",
   "execution_count": 89,
   "outputs": [
    {
     "name": "stdout",
     "output_type": "stream",
     "text": [
      "[2, 4, 6]\n"
     ]
    }
   ],
   "source": [
    "# C-1.16\n",
    "# So, we're assigning the new, modified number to mutable type - list - thus it is not forbidden.\n",
    "def scale(data, factor):\n",
    "    for j in range(len(data)):\n",
    "        data[j] *= factor\n",
    "    print(data)\n",
    "\n",
    "scale([1, 2, 3], 2)"
   ],
   "metadata": {
    "collapsed": false
   }
  },
  {
   "cell_type": "code",
   "execution_count": null,
   "outputs": [],
   "source": [
    "# C-1.17 This won't be working because of int isn't mutable.\n",
    "def scale(data, factor):\n",
    "    for val in data:\n",
    "        val ∗= factor"
   ],
   "metadata": {
    "collapsed": false
   }
  },
  {
   "cell_type": "code",
   "execution_count": 96,
   "outputs": [
    {
     "name": "stdout",
     "output_type": "stream",
     "text": [
      "['a', 'b', 'c', 'd', 'e', 'f', 'g', 'h', 'i', 'j', 'k', 'l', 'm', 'n', 'o', 'p', 'q', 'r', 's', 't', 'u', 'v', 'w', 'x', 'y', 'z']\n"
     ]
    }
   ],
   "source": [
    "# C-1.19\n",
    "alefbet = [chr(x)  for x in range(97,123)]\n",
    "print(alefbet)"
   ],
   "metadata": {
    "collapsed": false
   }
  },
  {
   "cell_type": "code",
   "execution_count": 104,
   "outputs": [
    {
     "name": "stdout",
     "output_type": "stream",
     "text": [
      "[5, 1, 6, 4, 3, 2]\n"
     ]
    }
   ],
   "source": [
    "# C-1.20\n",
    "from random import randint\n",
    "def shuffle(data):\n",
    "    for i in range(len(data)):\n",
    "        j = randint(0, i)\n",
    "        data[i], data[j] = data[j], data[i]\n",
    "    print(data)\n",
    "\n",
    "shuffle([1, 2, 3, 4, 5, 6])"
   ],
   "metadata": {
    "collapsed": false
   }
  },
  {
   "cell_type": "code",
   "execution_count": 105,
   "outputs": [
    {
     "name": "stdout",
     "output_type": "stream",
     "text": [
      "1\n",
      "3\n",
      "4\n",
      "6\n",
      "7\n",
      "Don't try buffer overflow attacks in Python!\n"
     ]
    }
   ],
   "source": [
    "# C-1.23\n",
    "def out_of_bounds(data):\n",
    "    try:\n",
    "        for i in range(len(data)+1):\n",
    "            print(data[i])\n",
    "    except IndexError:\n",
    "        print(\"Don't try buffer overflow attacks in Python!\")\n",
    "\n",
    "\n",
    "out_of_bounds([1, 3, 4, 6, 7])"
   ],
   "metadata": {
    "collapsed": false
   }
  },
  {
   "cell_type": "code",
   "execution_count": 3,
   "outputs": [
    {
     "name": "stdout",
     "output_type": "stream",
     "text": [
      "12\n"
     ]
    }
   ],
   "source": [
    "# C-1.24\n",
    "def count_vowels(string):\n",
    "    vowels = [\"a\", \"e\", \"i\", \"o\", \"u\", \"y\"]\n",
    "    count = 0\n",
    "    for char in string.lower():\n",
    "        if char in vowels:\n",
    "            count += 1\n",
    "    return count\n",
    "\n",
    "print(count_vowels(\"Don't try buffer overflow attacks in Python!\"))"
   ],
   "metadata": {
    "collapsed": false
   }
  },
  {
   "cell_type": "code",
   "execution_count": 7,
   "outputs": [
    {
     "name": "stdout",
     "output_type": "stream",
     "text": [
      "a + b = c\n",
      "a * b = c\n"
     ]
    }
   ],
   "source": [
    "# C-1.26\n",
    "def three_ints():\n",
    "    a = int(input(\"Type in a value: \"))\n",
    "    b = int(input(\"Type in b value: \"))\n",
    "    c = int(input(\"Type in c value: \"))\n",
    "\n",
    "    result = []\n",
    "    if a + b == c:\n",
    "        result.append(\"a + b = c\")\n",
    "    if a == b - c:\n",
    "        result.append(\"a = b - c\")\n",
    "    if a * b == c:\n",
    "        result.append(\"a * b = c\")\n",
    "    if result:\n",
    "        print(\"\\n\".join(result))\n",
    "    else:\n",
    "        print(\"No match found!\")\n",
    "\n",
    "\n",
    "three_ints()"
   ],
   "metadata": {
    "collapsed": false
   }
  },
  {
   "cell_type": "code",
   "execution_count": null,
   "outputs": [],
   "source": [
    "# C-1.27\n",
    "# need more time"
   ],
   "metadata": {
    "collapsed": false
   }
  },
  {
   "cell_type": "code",
   "execution_count": null,
   "outputs": [],
   "source": [
    "# P-1.31\n",
    "# need more time"
   ],
   "metadata": {
    "collapsed": false
   }
  },
  {
   "cell_type": "code",
   "execution_count": 5,
   "outputs": [
    {
     "ename": "ValueError",
     "evalue": "invalid literal for int() with base 10: ''",
     "output_type": "error",
     "traceback": [
      "\u001B[1;31m---------------------------------------------------------------------------\u001B[0m",
      "\u001B[1;31mValueError\u001B[0m                                Traceback (most recent call last)",
      "Cell \u001B[1;32mIn [5], line 24\u001B[0m\n\u001B[0;32m     22\u001B[0m         \u001B[38;5;28;01melse\u001B[39;00m:\n\u001B[0;32m     23\u001B[0m             \u001B[38;5;28;01mreturn\u001B[39;00m result\n\u001B[1;32m---> 24\u001B[0m \u001B[38;5;28mprint\u001B[39m(\u001B[43mcalculator\u001B[49m\u001B[43m(\u001B[49m\u001B[43m)\u001B[49m)\n",
      "Cell \u001B[1;32mIn [5], line 10\u001B[0m, in \u001B[0;36mcalculator\u001B[1;34m()\u001B[0m\n\u001B[0;32m      8\u001B[0m         \u001B[38;5;28;01mbreak\u001B[39;00m\n\u001B[0;32m      9\u001B[0m     expression\u001B[38;5;241m.\u001B[39mappend(operand)\n\u001B[1;32m---> 10\u001B[0m     result \u001B[38;5;241m=\u001B[39m \u001B[38;5;28;43mint\u001B[39;49m\u001B[43m(\u001B[49m\u001B[43mexpression\u001B[49m\u001B[43m[\u001B[49m\u001B[38;5;241;43m0\u001B[39;49m\u001B[43m]\u001B[49m\u001B[43m)\u001B[49m\n\u001B[0;32m     11\u001B[0m \u001B[38;5;28;01mfor\u001B[39;00m i \u001B[38;5;129;01min\u001B[39;00m \u001B[38;5;28mrange\u001B[39m(\u001B[38;5;241m0\u001B[39m, \u001B[38;5;28mlen\u001B[39m(expression)):\n\u001B[0;32m     12\u001B[0m     \u001B[38;5;28;01mif\u001B[39;00m expression[i\u001B[38;5;241m+\u001B[39m\u001B[38;5;241m1\u001B[39m] \u001B[38;5;241m==\u001B[39m \u001B[38;5;124m'\u001B[39m\u001B[38;5;124m+\u001B[39m\u001B[38;5;124m'\u001B[39m:\n",
      "\u001B[1;31mValueError\u001B[0m: invalid literal for int() with base 10: ''"
     ]
    }
   ],
   "source": [
    "# P-1.32\n",
    "def calculator():\n",
    "    expression = []\n",
    "\n",
    "    while True:\n",
    "        operand = input(': ')\n",
    "        if operand == '=':\n",
    "            break\n",
    "        expression.append(operand)\n",
    "        result = int(expression[0])\n",
    "    for i in range(0, len(expression)):\n",
    "        if expression[i+1] == '+':\n",
    "            result += int(expression[i+2])\n",
    "        if expression[i+1] == '-':\n",
    "            result -= int(expression[i+2])\n",
    "        if expression[i+1] == '*':\n",
    "            result *= int(expression[i+2])\n",
    "        if expression[i+1] == '/':\n",
    "            result /= int(expression[i+2])\n",
    "        if i+3 < len(expression):\n",
    "            i+=3\n",
    "        else:\n",
    "            return result\n",
    "print(calculator())"
   ],
   "metadata": {
    "collapsed": false
   }
  },
  {
   "cell_type": "code",
   "execution_count": null,
   "outputs": [],
   "source": [
    "# P-1.33\n",
    "# run programm, avoid input function"
   ],
   "metadata": {
    "collapsed": false
   }
  },
  {
   "cell_type": "code",
   "execution_count": null,
   "outputs": [],
   "source": [
    "# P-1.35\n",
    "# need more time"
   ],
   "metadata": {
    "collapsed": false
   }
  }
 ],
 "metadata": {
  "kernelspec": {
   "display_name": "Python 3",
   "language": "python",
   "name": "python3"
  },
  "language_info": {
   "codemirror_mode": {
    "name": "ipython",
    "version": 2
   },
   "file_extension": ".py",
   "mimetype": "text/x-python",
   "name": "python",
   "nbconvert_exporter": "python",
   "pygments_lexer": "ipython2",
   "version": "2.7.6"
  }
 },
 "nbformat": 4,
 "nbformat_minor": 0
}
