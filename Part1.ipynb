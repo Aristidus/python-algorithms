{
 "cells": [
  {
   "cell_type": "raw",
   "source": [
    "o#%% md# R-1.1\n",
    "`Obs:` Shorter."
   ],
   "metadata": {
    "collapsed": false,
    "pycharm": {
     "name": ""
    }
   }
  },
  {
   "cell_type": "code",
   "execution_count": 19,
   "metadata": {
    "scrolled": true
   },
   "outputs": [
    {
     "name": "stdout",
     "output_type": "stream",
     "text": [
      "True\n",
      "False\n",
      "True\n",
      "False\n"
     ]
    }
   ],
   "source": [
    "# R-1.1\n",
    "def is_multiple(n,m):\n",
    "    return m % n == 0\n",
    "print(is_multiple(2, 10))\n",
    "print(is_multiple(2, 11))\n",
    "print(is_multiple(-2, -10))\n",
    "print(is_multiple(-2, -11))"
   ]
  },
  {
   "cell_type": "markdown",
   "metadata": {},
   "source": [
    "# R-1.2\n",
    "`Obs:` Shorter.\n",
    "\n",
    "`Qs`:\n",
    "1. Does this work for floating point?\n",
    "2. How do floating point numbers operate?\n",
    "3. How do we check that a number is a power of 2? (Using the & operation)"
   ]
  },
  {
   "cell_type": "code",
   "execution_count": 20,
   "metadata": {},
   "outputs": [
    {
     "name": "stdout",
     "output_type": "stream",
     "text": [
      "False\n",
      "True\n",
      "False\n",
      "True\n",
      "True\n",
      "False\n"
     ]
    }
   ],
   "source": [
    "# R-1.2 bitwise AND\n",
    "def is_even(k):\n",
    "    return not (k & 1)\n",
    "\n",
    "print(is_even(1))\n",
    "print(is_even(2))\n",
    "print(is_even(3))\n",
    "print(is_even(0))\n",
    "print(is_even(-2))\n",
    "print(is_even(-3))"
   ]
  },
  {
   "cell_type": "code",
   "execution_count": 19,
   "metadata": {},
   "outputs": [
    {
     "name": "stdout",
     "output_type": "stream",
     "text": [
      "2 0b10 True\n",
      "1 0b1 True\n",
      "4 0b100 True\n",
      "10 0b1010 False\n",
      "256 0b100000000 True\n",
      "1025 0b10000000001 False\n"
     ]
    }
   ],
   "source": [
    "def is_power_of_2(k):\n",
    "    print(k, end=' ')\n",
    "    print(bin(k), end=' ')\n",
    "    return not (k & (k - 1))\n",
    "\n",
    "#0b0100\n",
    "#0b0011\n",
    "# & BITS\n",
    "#0b0000 \n",
    "# not 0 => 1 (true)\n",
    "\n",
    "#0b0110\n",
    "#0b0101\n",
    "# & BITS\n",
    "#0b0100\n",
    "# not 6 => 0 (false)\n",
    "\n",
    "print(is_power_of_2(2))\n",
    "print(is_power_of_2(1))\n",
    "print(is_power_of_2(4))\n",
    "print(is_power_of_2(10))\n",
    "print(is_power_of_2(256))\n",
    "print(is_power_of_2(1025))"
   ]
  },
  {
   "cell_type": "markdown",
   "metadata": {},
   "source": [
    "# R-1.3\n",
    "`Obs:` Code comment check."
   ]
  },
  {
   "cell_type": "code",
   "execution_count": 28,
   "metadata": {},
   "outputs": [
    {
     "name": "stdout",
     "output_type": "stream",
     "text": [
      "2669275931584 2669244520320\n",
      "[1, 2, 3, 4] [-2, 3, 4]\n",
      "[1, 2, 3, 4]\n",
      "[1, 2, 3, 4]\n",
      "[1, 2, 3, 4]\n",
      "[1, 2, 3, 4]\n",
      "[1, 2, 3, 4]\n",
      "2669275931584\n",
      "2669257940672\n",
      "2669261682368\n",
      "2669261609728\n",
      "2669261650688\n",
      "[1, 2, 3, 4]\n",
      "[-1, 2, 3, 4]\n",
      "[-2, 2, 3, 4]\n",
      "[-3, 2, 3, 4]\n",
      "[-4, 2, 3, 4]\n"
     ]
    }
   ],
   "source": [
    "data = [1,2,3,4]\n",
    "data2 = data[1:]\n",
    "print(id(data), id(data2))\n",
    "data2[0] = -2\n",
    "print(data, data2)\n",
    "\n",
    "data3 = data[:] # SHALLOW COPY\n",
    "data4 = list(data) # SHALLOW COPY OF LIST\n",
    "data5 = data.copy() # SHALLOW COPY\n",
    "from copy import copy\n",
    "data6 = copy(data) # SHALLOW COPY\n",
    "\n",
    "[print(x) for x in [data, data3, data4, data5, data6]] \n",
    "[print(id(x)) for x in [data, data3, data4, data5, data6]] \n",
    "\n",
    "cnt = 1\n",
    "for x in [data3, data4, data5, data6]:\n",
    "    x[0] = -cnt\n",
    "    cnt += 1\n",
    "\n",
    "# EQUIVALENT TO DEEPCOPY when everything is immutable in list\n",
    "\n",
    "[print(x) for x in [data, data3, data4, data5, data6]] \n",
    "None"
   ]
  },
  {
   "cell_type": "code",
   "execution_count": 47,
   "metadata": {},
   "outputs": [
    {
     "name": "stdout",
     "output_type": "stream",
     "text": [
      "====================\n",
      "[1, 2, [1, 2, 3], 'STRING', {'a': 10}]\n",
      "[1, 2, [1, 2, 3], 'STRING', {'a': 10}]\n",
      "[1, 2, [1, 2, 3], 'STRING', {'a': 10}]\n",
      "====================\n",
      "[1, 2, [1, 2, 3], 'STRING', {'a': 10}]\n",
      "[10, 2, [1, 2, 3], 'STRING', {'a': 10}]\n",
      "[-10, 2, [1, 2, 3], 'OTHER', {'a': 10}]\n",
      "====================\n",
      "[1, 2, [1, -2, 3], 'STRING', {'a': 11}]\n",
      "[10, 2, [1, -2, 3], 'STRING', {'a': 11}]\n",
      "[-10, 2, [1, -4, 3], 'OTHER', {'a': 20}]\n"
     ]
    }
   ],
   "source": [
    "# SHALLOW VS DEEP COPY\n",
    "from copy import copy, deepcopy\n",
    "sub_list = [1,2,3]\n",
    "sub_dict = {'a': 10}\n",
    "a = [1,2, sub_list,'STRING', sub_dict]\n",
    "b = copy(a)\n",
    "c = deepcopy(a)\n",
    "\n",
    "print(\"==\" * 10, \"\\n\", \"\\n\".join(map(str, [a,b,c])), sep='')\n",
    "b[0] = 10\n",
    "c[0] = -10\n",
    "c[3] = 'OTHER'\n",
    "print(\"==\" * 10, \"\\n\", \"\\n\".join(map(str, [a,b,c])), sep='')\n",
    "b[2][1] = -2\n",
    "a[4]['a']  = 11\n",
    "c[2][1] = -4\n",
    "c[4]['a']  = 20\n",
    "print(\"==\" * 10, \"\\n\", \"\\n\".join(map(str, [a,b,c])), sep='')"
   ]
  },
  {
   "cell_type": "code",
   "execution_count": 1,
   "metadata": {},
   "outputs": [
    {
     "name": "stdout",
     "output_type": "stream",
     "text": [
      "(-10, 100)\n",
      "(-100, 100)\n"
     ]
    }
   ],
   "source": [
    "# R-1.3\n",
    "def minmax(data):\n",
    "    minimum = data[0]\n",
    "    maximum = data[0]\n",
    "    \n",
    "    #for item in data:\n",
    "    # Is this more efficient?\n",
    "    for item in data[1:]:\n",
    "        if item < minimum:\n",
    "            minimum = item\n",
    "        if item > maximum:\n",
    "            maximum = item\n",
    "    return minimum, maximum\n",
    "print(minmax([1, 10, -10, 0, 100]))\n",
    "print(minmax([1, 100, -1, 0, -100]))"
   ]
  },
  {
   "cell_type": "markdown",
   "metadata": {},
   "source": [
    "# R-1.5"
   ]
  },
  {
   "cell_type": "code",
   "execution_count": 48,
   "metadata": {
    "scrolled": true
   },
   "outputs": [
    {
     "name": "stdout",
     "output_type": "stream",
     "text": [
      "0\n",
      "0\n",
      "1\n",
      "5\n",
      "30\n",
      "285\n"
     ]
    }
   ],
   "source": [
    "# R-1.5\n",
    "def sum_power_of_two(n):\n",
    "    if n < 0:\n",
    "        raise ValueError('n must be positive')\n",
    "    return sum([i**2 for i in range(n)])\n",
    "print(sum_power_of_two(0))\n",
    "print(sum_power_of_two(1))\n",
    "print(sum_power_of_two(2))\n",
    "print(sum_power_of_two(3))\n",
    "print(sum_power_of_two(5))\n",
    "print(sum_power_of_two(10))"
   ]
  },
  {
   "cell_type": "markdown",
   "metadata": {},
   "source": [
    "# R-1.10"
   ]
  },
  {
   "cell_type": "code",
   "execution_count": 32,
   "metadata": {},
   "outputs": [
    {
     "name": "stdout",
     "output_type": "stream",
     "text": [
      "[8, 6, 4, 2, 0, -2, -4, -6, -8]\n"
     ]
    }
   ],
   "source": [
    "# R-1.10\n",
    "print([item for item in range(8, -10 ,-2)])"
   ]
  },
  {
   "cell_type": "markdown",
   "metadata": {},
   "source": [
    "# R-1.11"
   ]
  },
  {
   "cell_type": "code",
   "execution_count": 58,
   "metadata": {},
   "outputs": [
    {
     "name": "stdout",
     "output_type": "stream",
     "text": [
      "[1, 2, 4, 8, 16, 32, 64, 128, 256]\n"
     ]
    }
   ],
   "source": [
    "# R-1.11\n",
    "print([2**item for item in range(9)])"
   ]
  },
  {
   "cell_type": "markdown",
   "metadata": {},
   "source": [
    "# R-1.12"
   ]
  },
  {
   "cell_type": "code",
   "execution_count": 49,
   "metadata": {},
   "outputs": [
    {
     "name": "stdout",
     "output_type": "stream",
     "text": [
      "5\n"
     ]
    }
   ],
   "source": [
    "# R-1.12\n",
    "from random import randrange\n",
    "\n",
    "def choice(data):\n",
    "    return data[randrange(len(data))]\n",
    "\n",
    "print(choice([1, 5, 67, 7, -100]))"
   ]
  },
  {
   "cell_type": "markdown",
   "source": [
    "# C-1.13\n",
    "# Use https://mermaid-js.github.io/mermaid/#/flowchart\n",
    "# https://users.csc.calpoly.edu/~jdalbey/SWE/pdl_std.html\n",
    "**GIVEN** list_of_values\n",
    "**FOR** each index of item in list_of_values\n",
    "    >> **index_to_append** = -index-1\n",
    "    >> find **result_item** in the **list_of_values** by using **index_to_append**\n",
    "    >> append item to reversed_list\n",
    "\n",
    "[Link to MermaidJS live editor](https://mermaid.live/edit#pako:eNptUm1LxDAM_iuhn6-CXwcq4qEciMIpgmxjlDW7DbZ29OVUxv676YveCQ7Wpk-ePGmSLqzVElnBDkbMPbxuKwX0PQ7WlWGB5w7exOjR1icPcH4N99os9MOgJH7SCiN5LmBnwfUYDzAb3aK1KG_WFBz4nMOTjgq7EPnH8Y42evbovFFl2sDgEQ2pNEE0X2OfMGLzzE541AxSd2Js_SgcZshpEPOMSp5SNwkoYwWN0_l8xSPAL-szyeY3GB7QwTG0BDqjp1Tpx-B6aH9SytyUkCk2L0cnvXMk6N0miy4YGhdM3UXToPWjSwlSV2LNZd5lnEX9r2gcD9uwCc0kBknzXQKvYqQ7YcUKMiV2gvQrVqmVqMI7_fKlWlY443HD_CyplO0g6GVMrOjEaHH9Bipsurg)\n",
    "![](C1-13-pseudocode.png)"
   ],
   "metadata": {
    "collapsed": false
   }
  },
  {
   "cell_type": "code",
   "execution_count": 16,
   "outputs": [
    {
     "name": "stdout",
     "output_type": "stream",
     "text": [
      "[5, 4, 3, 2, 1]\n"
     ]
    }
   ],
   "source": [
    "def reverse_list_of_integers(in_list):\n",
    "    reversed_list=[]\n",
    "    for i in range(0, len(in_list)):\n",
    "        reversed_list.append(in_list[-i-1])\n",
    "    return reversed_list\n",
    "\n",
    "print(reverse_list_of_integers([1,2,3,4,5]))"
   ],
   "metadata": {
    "collapsed": false
   }
  },
  {
   "cell_type": "markdown",
   "metadata": {},
   "source": [
    "# C-1.15"
   ]
  },
  {
   "cell_type": "code",
   "execution_count": 48,
   "metadata": {},
   "outputs": [
    {
     "name": "stdout",
     "output_type": "stream",
     "text": [
      "True\n",
      "False\n"
     ]
    }
   ],
   "source": [
    "# C-1.15\n",
    "def is_distinct(data):\n",
    "    return len(data) == len(set(data))\n",
    "\n",
    "print(is_distinct([1, 2, 3, 4, 5]))\n",
    "print(is_distinct([1, 2, 3, 3, 5]))"
   ]
  },
  {
   "cell_type": "markdown",
   "metadata": {},
   "source": [
    "# C-1.16\n",
    "`Qs:` \n",
    "1. x += (6,)\n",
    "1. l += [6,]\n",
    "1. Immutable __init__"
   ]
  },
  {
   "cell_type": "code",
   "execution_count": 62,
   "metadata": {},
   "outputs": [
    {
     "name": "stdout",
     "output_type": "stream",
     "text": [
      "1.0\n",
      "2.0\n"
     ]
    }
   ],
   "source": [
    "class Float_works(float):\n",
    "    def __new__(cls, value):\n",
    "        return float.__new__(cls, value * 0.5)\n",
    "    \n",
    "class Float_fail(float):\n",
    "    def __init__(self, value):\n",
    "        float.__init__(value * 0.5)\n",
    "\n",
    "\n",
    "f = Float_works(2)\n",
    "print(f)\n",
    "f2 = Float_fail(2)\n",
    "print(f2)"
   ]
  },
  {
   "cell_type": "code",
   "execution_count": 52,
   "metadata": {},
   "outputs": [
    {
     "name": "stdout",
     "output_type": "stream",
     "text": [
      "(1, 2, 3) [1, 2, 3, 6]\n",
      "(1, 2, 3, 6) [1, 2, 3, 6]\n"
     ]
    }
   ],
   "source": [
    "a = (1,2,3)\n",
    "b = [1,2,3]\n",
    "\n",
    "c = a\n",
    "d = b\n",
    "\n",
    "c += (6,)\n",
    "d += [6]\n",
    "\n",
    "print(a, b)\n",
    "print(c, d)\n",
    "\n",
    "None\n",
    "\n",
    "\n",
    "# ...\n",
    "x = (1,2,3) # Where does it point to?"
   ]
  },
  {
   "cell_type": "code",
   "execution_count": 49,
   "metadata": {},
   "outputs": [
    {
     "name": "stdout",
     "output_type": "stream",
     "text": [
      "[2, 4, 6]\n"
     ]
    }
   ],
   "source": [
    "# C-1.16\n",
    "# So, we're assigning the new, modified number to mutable type - list - thus it is not forbidden.\n",
    "def scale(data, factor):\n",
    "    for j in range(len(data)):\n",
    "        data[j] *= factor\n",
    "    print(data)\n",
    "\n",
    "scale([1, 2, 3], 2)"
   ]
  },
  {
   "cell_type": "markdown",
   "metadata": {},
   "source": [
    "# C-1.17\n",
    "`Obs:` * interesting symbol."
   ]
  },
  {
   "cell_type": "code",
   "execution_count": 65,
   "metadata": {
    "scrolled": false
   },
   "outputs": [],
   "source": [
    "# C-1.17 This won't be working because of int isn't mutable.\n",
    "def scale(data, factor):\n",
    "    for val in data:\n",
    "        val *= factor"
   ]
  },
  {
   "cell_type": "markdown",
   "metadata": {},
   "source": [
    "# C-1.18\n",
    "\n",
    "<!-- print([2*sum(range(x)) for x in range(1,11)]) \n",
    "print([x**2 - x  for x in range(1,11)]) -->\n",
    "\n",
    "Lets do this one as well. More interesting :D.O\n",
    "Pronic numbers =)"
   ]
  },
  {
   "cell_type": "code",
   "execution_count": 8,
   "outputs": [
    {
     "name": "stdout",
     "output_type": "stream",
     "text": [
      "[0, 2, 6, 12, 20, 30, 42, 56, 72, 90, 110, 132]\n"
     ]
    }
   ],
   "source": [
    "def pronic_numbers(n):\n",
    "    return [x*(x+1) for x in range(n)]\n",
    "\n",
    "print(pronic_numbers(12))"
   ],
   "metadata": {
    "collapsed": false
   }
  },
  {
   "cell_type": "markdown",
   "metadata": {},
   "source": [
    "# C-1.19 \n",
    "`Obs:` More readable"
   ]
  },
  {
   "cell_type": "code",
   "execution_count": 53,
   "metadata": {},
   "outputs": [
    {
     "name": "stdout",
     "output_type": "stream",
     "text": [
      "['a', 'b', 'c', 'd', 'e', 'f', 'g', 'h', 'i', 'j', 'k', 'l', 'm', 'n', 'o', 'p', 'q', 'r', 's', 't', 'u', 'v', 'w', 'x', 'y', 'z']\n"
     ]
    }
   ],
   "source": [
    "# C-1.19\n",
    "alefbet = [chr(x) for x in range(ord('a'), ord('z') + 1)]\n",
    "print(alefbet)"
   ]
  },
  {
   "cell_type": "markdown",
   "metadata": {},
   "source": [
    "# C-1.20\n",
    "`Q:`\n",
    "How did you test it?\n",
    "\n",
    "<!--- \n",
    "-->"
   ]
  },
  {
   "cell_type": "code",
   "execution_count": 7,
   "metadata": {},
   "outputs": [
    {
     "name": "stdout",
     "output_type": "stream",
     "text": [
      "{0: 2809, 1: 5606, 2: 8288, 3: 11181, 4: 13808, 5: 16720, 6: 14029, 7: 10991, 8: 8266, 9: 5562, 10: 2740}\n"
     ]
    }
   ],
   "source": [
    "# C-1.20\n",
    "from random import randint, shuffle as shuf\n",
    "\n",
    "# One shuffle shows that we are shuffling the list order, FUNCTIIONAL TEST => OK (PASSED)\n",
    "# Distribution of the elements is correct? ROBSTNESS/SECURITY TEST\n",
    "\n",
    "def shuffle(data):\n",
    "    for i in range(len(data)):\n",
    "        # Interesting ...\n",
    "        #j = randint(0, len(data)-1)\n",
    "        j = randint(0, i)\n",
    "        data[i], data[j] = data[j], data[i]\n",
    "    #print(data)\n",
    "\n",
    "shuffle([1, 2, 3, 4, 5, 6])\n",
    "\n",
    "ricnt = {}\n",
    "for _ in range(100000):\n",
    "    s = 0\n",
    "    for D_ in range(2):\n",
    "        s += randint(0, 5)\n",
    "        #break\n",
    "    x = s\n",
    "    if x not in ricnt:\n",
    "        ricnt[x] =0\n",
    "    ricnt[x] += 1\n",
    "\n",
    "print(dict(sorted(ricnt.items())))"
   ]
  },
  {
   "cell_type": "code",
   "execution_count": 93,
   "metadata": {},
   "outputs": [
    {
     "name": "stdout",
     "output_type": "stream",
     "text": [
      "1\n",
      "{0: 16850, 1: 16541, 2: 16587, 3: 16773, 4: 16715, 5: 16534}\n",
      "{0: 16484, 1: 16806, 2: 16682, 3: 16562, 4: 16858, 5: 16608}\n",
      "==========\n",
      "2\n",
      "{0: 20649, 1: 15200, 2: 15362, 3: 15760, 4: 16226, 5: 16803}\n",
      "{0: 16725, 1: 16732, 2: 16491, 3: 16728, 4: 16633, 5: 16691}\n",
      "==========\n",
      "3\n",
      "{0: 18174, 1: 19617, 2: 14764, 3: 15121, 4: 15690, 5: 16634}\n",
      "{0: 16622, 1: 16657, 2: 16535, 3: 16707, 4: 16656, 5: 16823}\n",
      "==========\n",
      "4\n",
      "{0: 16361, 1: 17571, 2: 19371, 3: 14519, 4: 15458, 5: 16720}\n",
      "{0: 16588, 1: 16651, 2: 16995, 3: 16710, 4: 16534, 5: 16522}\n",
      "==========\n",
      "5\n",
      "{0: 14665, 1: 16288, 2: 17500, 3: 19576, 4: 15424, 5: 16547}\n",
      "{0: 16873, 1: 16400, 2: 16478, 3: 16793, 4: 16682, 5: 16774}\n",
      "==========\n",
      "6\n",
      "{0: 13301, 1: 14783, 2: 16416, 3: 18251, 4: 20487, 5: 16762}\n",
      "{0: 16708, 1: 16754, 2: 16819, 3: 16500, 4: 16637, 5: 16582}\n",
      "==========\n"
     ]
    }
   ],
   "source": [
    "out = {'dim.shuffle' : {}, 'random.shuffle' : {}}\n",
    "\n",
    "for _ in range(100000):\n",
    "    c = out['dim.shuffle']\n",
    "    L= [1, 2, 3, 4, 5, 6]\n",
    "    shuffle(L)\n",
    "    for i, x in enumerate(L):\n",
    "        if x not in c:\n",
    "            c[x] = {}\n",
    "        if i not in c[x]:\n",
    "            c[x][i] = 0\n",
    "        c[x][i] += 1\n",
    "    c = out['random.shuffle']\n",
    "    L= [1, 2, 3, 4, 5, 6]\n",
    "    shuf(L)\n",
    "    for i, x in enumerate(L):\n",
    "        if x not in c:\n",
    "            c[x] = {}\n",
    "        if i not in c[x]:\n",
    "            c[x][i] = 0\n",
    "        c[x][i] += 1\n",
    "\n",
    "for k in sorted(out['dim.shuffle']):\n",
    "    print(k)\n",
    "    print(dict(sorted(out['dim.shuffle'][k].items())))\n",
    "    print(dict(sorted(out['random.shuffle'][k].items())))\n",
    "    print(\"=\" * 10)"
   ]
  },
  {
   "cell_type": "markdown",
   "metadata": {},
   "source": [
    "# C-1.23\n",
    "`Q:` What do buffer overflow attacks accomplish?"
   ]
  },
  {
   "cell_type": "code",
   "execution_count": 94,
   "metadata": {
    "scrolled": false
   },
   "outputs": [
    {
     "name": "stdout",
     "output_type": "stream",
     "text": [
      "1\n",
      "3\n",
      "4\n",
      "6\n",
      "7\n",
      "Don't try buffer overflow attacks in Python!\n"
     ]
    }
   ],
   "source": [
    "# C-1.23\n",
    "def out_of_bounds(data):\n",
    "    try:\n",
    "        for i in range(len(data)+1):\n",
    "            print(data[i])\n",
    "    except IndexError:\n",
    "        print(\"Don't try buffer overflow attacks in Python!\")\n",
    "\n",
    "\n",
    "out_of_bounds([1, 3, 4, 6, 7])"
   ]
  },
  {
   "cell_type": "markdown",
   "metadata": {},
   "source": [
    "# C-1.24\n",
    "`Obs:` - \"y\" is not a vowel.\n",
    "\n",
    "`Note for OT`: y is vowel in russian, xD"
   ]
  },
  {
   "cell_type": "code",
   "execution_count": 3,
   "metadata": {},
   "outputs": [
    {
     "name": "stdout",
     "output_type": "stream",
     "text": [
      "12\n"
     ]
    }
   ],
   "source": [
    "# C-1.24\n",
    "def count_vowels(string):\n",
    "    vowels = [\"a\", \"e\", \"i\", \"o\", \"u\", \"y\"] # y?\n",
    "    count = 0\n",
    "    for char in string.lower():\n",
    "        if char in vowels:\n",
    "            count += 1\n",
    "    return count\n",
    "\n",
    "print(count_vowels(\"Don't try buffer overflow attacks in Python!\"))"
   ]
  },
  {
   "cell_type": "markdown",
   "metadata": {},
   "source": [
    "# C-1.26\n",
    "`Obs:` - Not all cases were established. The `task description` gives some examples but the code doesn't cover all the situations. Ex: `a - b = c`, `a = b * c`, etc."
   ]
  },
  {
   "cell_type": "code",
   "execution_count": 95,
   "metadata": {},
   "outputs": [
    {
     "name": "stdout",
     "output_type": "stream",
     "text": [
      "Type in a value: 10\n",
      "Type in b value: 5\n",
      "Type in c value: 2\n",
      "a = b * c\n",
      "a / b = c\n",
      "a // b = c\n"
     ]
    }
   ],
   "source": [
    "# C-1.26\n",
    "def three_ints():\n",
    "    a = int(input(\"Type in a value: \"))\n",
    "    b = int(input(\"Type in b value: \"))\n",
    "    c = int(input(\"Type in c value: \"))\n",
    "\n",
    "    result = []\n",
    "    for s in ['*', '/', '%', '//', '+', '-']:\n",
    "        if eval(f'a {s} b == c'):\n",
    "            result.append(f'a {s} b = c')\n",
    "        if eval(f'a == b {s} c'):\n",
    "            result.append(f'a = b {s} c')\n",
    "    if result:\n",
    "        print(\"\\n\".join(result))\n",
    "    else:\n",
    "        print(\"No match found!\")\n",
    "\n",
    "\n",
    "three_ints()"
   ]
  },
  {
   "cell_type": "code",
   "execution_count": 78,
   "metadata": {},
   "outputs": [
    {
     "name": "stdout",
     "output_type": "stream",
     "text": [
      "Time measure start: 1665246282.856878\n",
      "Time measure stop: 1665246282.857831\n",
      "Usual Factors. Elapsed time: 0.0009529590606689453\n",
      "[1, 1000000, 2, 500000, 4, 250000, 5, 200000, 8, 125000, 10, 100000, 16, 62500, 20, 50000, 25, 40000, 32, 31250, 40, 25000, 50, 20000, 64, 15625, 80, 12500, 100, 10000, 125, 8000, 160, 6250, 200, 5000, 250, 4000, 320, 3125, 400, 2500, 500, 2000, 625, 1600, 800, 1250, 1000]\n",
      "Time measure start: 1665246282.857831\n",
      "Time measure stop: 1665246282.89676\n",
      "Sorted Factors. Elapsed time: 0.038928985595703125\n",
      "[1, 2, 4, 5, 8, 10, 16, 20, 25, 32, 40, 50, 64, 80, 100, 125, 160, 200, 250, 320, 400, 500, 625, 800, 1000, 1250, 1600, 2000, 2500, 3125, 4000, 5000, 6250, 8000, 10000, 12500, 15625, 20000, 25000, 31250, 40000, 50000, 62500, 100000, 125000, 200000, 250000, 500000, 1000000]\n"
     ]
    }
   ],
   "source": [
    "# C-1.27\n",
    "from datetime import datetime\n",
    "\n",
    "def factors(n):\n",
    "    now = datetime.now()\n",
    "    now = datetime.timestamp(now)\n",
    "    print(f\"Time measure start: {now}\")\n",
    "    k = 1\n",
    "    while k * k < n:\n",
    "        if n % k == 0:\n",
    "            yield k\n",
    "            yield n // k\n",
    "        k += 1\n",
    "    if k * k == n:\n",
    "        yield k\n",
    "    after = datetime.now()\n",
    "    after = datetime.timestamp(after)\n",
    "    print(f\"Time measure stop: {after}\")\n",
    "    print(f\"Usual Factors. Elapsed time: {after-now}\")\n",
    "\n",
    "def sorted_factors(n):\n",
    "    now = datetime.now()\n",
    "    now = datetime.timestamp(now)\n",
    "    print(f\"Time measure start: {now}\")\n",
    "    k = 1\n",
    "    while k * k < n:\n",
    "        if n % k == 0:\n",
    "            yield k\n",
    "        k += 1\n",
    "    if k * k == n:\n",
    "        yield k\n",
    "\n",
    "    while k <= n//2:\n",
    "        k += 1\n",
    "        if n % k == 0:\n",
    "            yield k\n",
    "    yield n\n",
    "    after = datetime.now()\n",
    "    after = datetime.timestamp(after)\n",
    "    print(f\"Time measure stop: {after}\")\n",
    "    print(f\"Sorted Factors. Elapsed time: {after-now}\")\n",
    "\n",
    "print([x for x in factors(1000000)])\n",
    "print([x for x in sorted_factors(1000000)])"
   ]
  },
  {
   "cell_type": "code",
   "execution_count": 104,
   "metadata": {},
   "outputs": [
    {
     "name": "stdout",
     "output_type": "stream",
     "text": [
      "{50: 2}\n",
      "{1000: 1, 20: 1, 5: 1, 2: 2}\n",
      "['2x of 50 cents coin']\n",
      "['1x of 10 dollars bill', '1x of 20 cents coin', '1x of 5 cents coin', '2x of 2 cents coin']\n"
     ]
    }
   ],
   "source": [
    "# P-1.31\n",
    "# Write a Python program that can “make change.” Your program should take two numbers as input, one that\n",
    "# is a monetary amount charged and the other that is a monetary amount given. It should then return the\n",
    "# number of each kind of bill and coin to give back as change for the difference between the amount given\n",
    "# and the amount charged. The values assigned to the bills and coins can be based on the monetary system of\n",
    "# any current or former government. Try to design your program so that it returns as few bills and coins as possible\n",
    "currency_physical = [1, 2, 5, 20, 50, 100, 200, 500, 1000, 2000, 5000, 10000]\n",
    "\n",
    "\n",
    "def number_cents_to_real_currency_name(dict_of_change):\n",
    "    text_repr_change = []\n",
    "    for key, item in dict_of_change.items():\n",
    "        if key >= 100:\n",
    "            text_repr_change.append(f\"{item}x of {key//100} dollars bill\")\n",
    "        else:\n",
    "            text_repr_change.append(f\"{item}x of {key} cents coin\")\n",
    "    return text_repr_change\n",
    "\n",
    "\n",
    "def payment(bill_in_cents, money_paid_in_cents):\n",
    "    leftover = money_paid_in_cents - bill_in_cents\n",
    "    change = {}\n",
    "    for i in range(len(currency_physical)):\n",
    "        currency_piece = currency_physical[-i-1]\n",
    "        if leftover == 0:\n",
    "            return change\n",
    "        if leftover > currency_piece:\n",
    "            if leftover % currency_piece == 0:\n",
    "                change[currency_piece] = leftover // currency_piece\n",
    "                return change\n",
    "            else:\n",
    "                change[currency_piece] = leftover // currency_piece\n",
    "                leftover = leftover - currency_piece * change[currency_piece]\n",
    "\n",
    "print(payment(9900, 10000))\n",
    "print(payment(8971, 10000))\n",
    "\n",
    "print(number_cents_to_real_currency_name(payment(9900, 10000)))\n",
    "print(number_cents_to_real_currency_name(payment(8971, 10000)))\n"
   ]
  },
  {
   "cell_type": "code",
   "execution_count": 91,
   "outputs": [
    {
     "name": "stdout",
     "output_type": "stream",
     "text": [
      "5000\n",
      "2000\n",
      "200\n"
     ]
    },
    {
     "ename": "IndexError",
     "evalue": "list index out of range",
     "output_type": "error",
     "traceback": [
      "\u001B[1;31m---------------------------------------------------------------------------\u001B[0m",
      "\u001B[1;31mIndexError\u001B[0m                                Traceback (most recent call last)",
      "Cell \u001B[1;32mIn [91], line 3\u001B[0m\n\u001B[0;32m      1\u001B[0m currency_physical \u001B[38;5;241m=\u001B[39m [\u001B[38;5;241m1\u001B[39m, \u001B[38;5;241m2\u001B[39m, \u001B[38;5;241m5\u001B[39m, \u001B[38;5;241m20\u001B[39m, \u001B[38;5;241m50\u001B[39m, \u001B[38;5;241m100\u001B[39m, \u001B[38;5;241m200\u001B[39m, \u001B[38;5;241m500\u001B[39m, \u001B[38;5;241m1000\u001B[39m, \u001B[38;5;241m2000\u001B[39m, \u001B[38;5;241m5000\u001B[39m, \u001B[38;5;241m10000\u001B[39m]\n\u001B[0;32m      2\u001B[0m \u001B[38;5;28;01mfor\u001B[39;00m i \u001B[38;5;129;01min\u001B[39;00m currency_physical:\n\u001B[1;32m----> 3\u001B[0m     \u001B[38;5;28mprint\u001B[39m(currency_physical[\u001B[38;5;241m-\u001B[39mi\u001B[38;5;241m-\u001B[39m\u001B[38;5;241m1\u001B[39m])\n",
      "\u001B[1;31mIndexError\u001B[0m: list index out of range"
     ]
    }
   ],
   "source": [
    "currency_physical = [1, 2, 5, 20, 50, 100, 200, 500, 1000, 2000, 5000, 10000]\n",
    "for i in currency_physical:\n",
    "    print(currency_physical[-i-1])"
   ],
   "metadata": {
    "collapsed": false
   }
  },
  {
   "cell_type": "markdown",
   "metadata": {},
   "source": [
    "# P-1.32\n",
    "`Obs:` \n",
    "1. `Operand == '='` is not sufficient, where is `strip?`\n",
    "1. Program does not cover all cases. Ex: `10\\n+\\n\\n10\\n=`. A lot of edge cases are possible and can output errors. \n",
    "1. Much easy solution with `eval`"
   ]
  },
  {
   "cell_type": "code",
   "execution_count": 18,
   "metadata": {},
   "outputs": [
    {
     "name": "stdout",
     "output_type": "stream",
     "text": [
      "112\n"
     ]
    }
   ],
   "source": [
    "# P-1.32\n",
    "def calculator_old():\n",
    "    expression = []\n",
    "\n",
    "    while True:\n",
    "        operand = input(': ')\n",
    "        if operand == '=':\n",
    "            break\n",
    "        expression.append(operand)\n",
    "        result = int(expression[0])\n",
    "    print(expression)\n",
    "    for i in range(0, len(expression)):\n",
    "        if expression[i+1] == '+':\n",
    "            result += int(expression[i+2])\n",
    "        if expression[i+1] == '-':\n",
    "            result -= int(expression[i+2])\n",
    "        if expression[i+1] == '*':\n",
    "            result *= int(expression[i+2])\n",
    "        if expression[i+1] == '/':\n",
    "            result /= int(expression[i+2])\n",
    "        if i+3 < len(expression):\n",
    "            i+=3\n",
    "        else:\n",
    "            return result\n",
    "\n",
    "def calculator():\n",
    "    expression = ''\n",
    "    while True:\n",
    "        input_data = input(': ')\n",
    "        input_data = input_data.strip()\n",
    "        if input_data == '=':\n",
    "            break\n",
    "        expression += input_data\n",
    "    return eval(expression)\n",
    "    \n",
    "print(calculator())"
   ]
  },
  {
   "cell_type": "code",
   "execution_count": 16,
   "metadata": {},
   "outputs": [],
   "source": [
    "# P-1.33\n",
    "# run programm, avoid input function"
   ]
  },
  {
   "cell_type": "code",
   "execution_count": 31,
   "metadata": {},
   "outputs": [
    {
     "name": "stdout",
     "output_type": "stream",
     "text": [
      "0\n",
      "0.0\n",
      "0.002739726027397249\n",
      "0.008204165884781345\n",
      "0.016355912466550215\n",
      "0.02713557369979347\n",
      "0.040462483649111425\n",
      "0.056235703095975365\n",
      "0.07433529235166902\n",
      "0.09462383388916673\n",
      "0.11694817771107768\n",
      "0.14114137832173312\n",
      "0.1670247888380645\n",
      "0.19441027523242949\n",
      "0.2231025120049731\n",
      "0.25290131976368646\n",
      "0.28360400525285\n",
      "0.31500766529656077\n",
      "0.3469114178717895\n",
      "0.37911852603153684\n",
      "0.41143838358058016\n",
      "0.4436883351652059\n",
      "0.4756953076625502\n"
     ]
    }
   ],
   "source": [
    "# P-1.35\n",
    "# need more time\n",
    "def birthday_prob(n):\n",
    "    q = 1\n",
    "    for i in range (0,n):\n",
    "        q*=(365-i)/365\n",
    "    return 1-q\n",
    "\n",
    "print(birthday_prob(69))"
   ]
  },
  {
   "cell_type": "code",
   "execution_count": 42,
   "outputs": [
    {
     "name": "stdout",
     "output_type": "stream",
     "text": [
      "i=0. There were 0 entries that more than 2. Entries dict: {}\n",
      "i=1. There were 0 entries that more than 2. Entries dict: {}\n",
      "i=2. There were 0 entries that more than 2. Entries dict: {}\n",
      "i=3. There were 0 entries that more than 2. Entries dict: {}\n",
      "i=4. There were 0 entries that more than 2. Entries dict: {}\n",
      "i=5. There were 0 entries that more than 2. Entries dict: {}\n",
      "i=6. There were 0 entries that more than 2. Entries dict: {}\n",
      "i=7. There were 0 entries that more than 2. Entries dict: {}\n",
      "i=8. There were 0 entries that more than 2. Entries dict: {}\n",
      "i=9. There were 0 entries that more than 2. Entries dict: {}\n",
      "i=10. There were 1 entries that more than 2. Entries dict: {'0001-05-08': 2}\n",
      "i=11. There were 0 entries that more than 2. Entries dict: {}\n",
      "i=12. There were 0 entries that more than 2. Entries dict: {}\n",
      "i=13. There were 0 entries that more than 2. Entries dict: {}\n",
      "i=14. There were 1 entries that more than 2. Entries dict: {'0001-05-21': 2}\n",
      "i=15. There were 0 entries that more than 2. Entries dict: {}\n",
      "i=16. There were 0 entries that more than 2. Entries dict: {}\n",
      "i=17. There were 0 entries that more than 2. Entries dict: {}\n",
      "i=18. There were 0 entries that more than 2. Entries dict: {}\n",
      "i=19. There were 1 entries that more than 2. Entries dict: {'0001-07-07': 2}\n",
      "i=20. There were 1 entries that more than 2. Entries dict: {'0001-07-02': 2}\n",
      "i=21. There were 0 entries that more than 2. Entries dict: {}\n",
      "i=22. There were 1 entries that more than 2. Entries dict: {'0001-05-24': 2}\n",
      "i=23. There were 0 entries that more than 2. Entries dict: {}\n",
      "i=24. There were 0 entries that more than 2. Entries dict: {}\n",
      "i=25. There were 1 entries that more than 2. Entries dict: {'0001-04-12': 2}\n",
      "i=26. There were 0 entries that more than 2. Entries dict: {}\n",
      "i=27. There were 1 entries that more than 2. Entries dict: {'0001-04-17': 2}\n",
      "i=28. There were 2 entries that more than 2. Entries dict: {'0001-05-03': 2, '0001-05-31': 2}\n",
      "i=29. There were 1 entries that more than 2. Entries dict: {'0001-06-27': 2}\n",
      "i=30. There were 1 entries that more than 2. Entries dict: {'0001-04-15': 2}\n",
      "i=31. There were 1 entries that more than 2. Entries dict: {'0001-12-20': 2}\n",
      "i=32. There were 1 entries that more than 2. Entries dict: {'0001-06-09': 2}\n",
      "i=33. There were 0 entries that more than 2. Entries dict: {}\n",
      "i=34. There were 1 entries that more than 2. Entries dict: {'0001-01-28': 2}\n",
      "i=35. There were 3 entries that more than 2. Entries dict: {'0001-02-21': 2, '0001-02-08': 2, '0001-04-07': 2}\n",
      "i=36. There were 2 entries that more than 2. Entries dict: {'0001-10-04': 2, '0001-11-28': 2}\n",
      "i=37. There were 3 entries that more than 2. Entries dict: {'0001-02-15': 2, '0001-01-16': 2, '0001-08-27': 2}\n",
      "i=38. There were 4 entries that more than 2. Entries dict: {'0001-12-02': 2, '0001-05-04': 2, '0001-07-23': 2, '0001-03-26': 2}\n",
      "i=39. There were 4 entries that more than 2. Entries dict: {'0001-07-19': 2, '0001-07-31': 2, '0001-05-27': 2, '0001-09-05': 2}\n",
      "i=40. There were 1 entries that more than 2. Entries dict: {'0001-07-16': 2}\n",
      "i=41. There were 2 entries that more than 2. Entries dict: {'0001-03-24': 2, '0001-04-08': 2}\n",
      "i=42. There were 1 entries that more than 2. Entries dict: {'0001-11-14': 2}\n",
      "i=43. There were 1 entries that more than 2. Entries dict: {'0001-02-04': 2}\n",
      "i=44. There were 2 entries that more than 2. Entries dict: {'0001-04-20': 2, '0001-11-10': 2}\n",
      "i=45. There were 3 entries that more than 2. Entries dict: {'0001-06-28': 2, '0001-07-13': 2, '0001-08-22': 2}\n",
      "i=46. There were 4 entries that more than 2. Entries dict: {'0001-05-26': 2, '0001-01-17': 2, '0001-12-04': 2, '0001-02-12': 2}\n",
      "i=47. There were 5 entries that more than 2. Entries dict: {'0001-12-21': 2, '0001-04-04': 2, '0001-09-20': 2, '0001-09-17': 2, '0001-07-21': 2}\n",
      "i=48. There were 2 entries that more than 2. Entries dict: {'0001-07-07': 2, '0001-03-07': 2}\n",
      "i=49. There were 4 entries that more than 2. Entries dict: {'0001-12-16': 2, '0001-01-17': 2, '0001-03-19': 2, '0001-11-16': 2}\n",
      "i=50. There were 5 entries that more than 2. Entries dict: {'0001-05-28': 3, '0001-11-21': 2, '0001-11-29': 2, '0001-01-09': 2, '0001-10-06': 2}\n",
      "i=51. There were 2 entries that more than 2. Entries dict: {'0001-09-20': 3, '0001-07-13': 3}\n",
      "i=52. There were 0 entries that more than 2. Entries dict: {}\n",
      "i=53. There were 5 entries that more than 2. Entries dict: {'0001-03-07': 2, '0001-05-07': 2, '0001-04-27': 2, '0001-02-14': 2, '0001-08-22': 2}\n",
      "i=54. There were 4 entries that more than 2. Entries dict: {'0001-07-28': 2, '0001-07-10': 2, '0001-04-18': 2, '0001-05-31': 2}\n",
      "i=55. There were 5 entries that more than 2. Entries dict: {'0001-09-30': 2, '0001-07-12': 2, '0001-11-07': 2, '0001-03-23': 2, '0001-09-10': 2}\n",
      "i=56. There were 4 entries that more than 2. Entries dict: {'0001-09-15': 2, '0001-04-20': 2, '0001-07-12': 2, '0001-12-06': 2}\n",
      "i=57. There were 5 entries that more than 2. Entries dict: {'0001-07-26': 3, '0001-01-26': 2, '0001-10-05': 2, '0001-07-22': 2, '0001-06-26': 2}\n",
      "i=58. There were 4 entries that more than 2. Entries dict: {'0001-03-11': 2, '0001-09-29': 2, '0001-10-24': 2, '0001-04-09': 2}\n",
      "i=59. There were 5 entries that more than 2. Entries dict: {'0001-07-10': 2, '0001-03-23': 2, '0001-08-10': 2, '0001-02-02': 2, '0001-03-30': 2}\n",
      "i=60. There were 4 entries that more than 2. Entries dict: {'0001-03-26': 2, '0001-07-16': 2, '0001-01-16': 2, '0001-10-25': 2}\n",
      "i=61. There were 4 entries that more than 2. Entries dict: {'0001-07-29': 3, '0001-05-09': 2, '0001-05-01': 3, '0001-05-06': 2}\n",
      "i=62. There were 5 entries that more than 2. Entries dict: {'0001-09-10': 2, '0001-08-01': 2, '0001-07-31': 2, '0001-10-29': 2, '0001-10-15': 2}\n",
      "i=63. There were 5 entries that more than 2. Entries dict: {'0001-12-13': 2, '0001-01-17': 2, '0001-01-03': 2, '0001-02-25': 2, '0001-09-28': 2}\n",
      "i=64. There were 6 entries that more than 2. Entries dict: {'0001-08-15': 3, '0001-04-19': 2, '0001-06-01': 2, '0001-11-23': 2, '0001-03-05': 2, '0001-02-27': 2}\n",
      "i=65. There were 9 entries that more than 2. Entries dict: {'0001-03-21': 2, '0001-06-13': 2, '0001-12-21': 3, '0001-07-23': 2, '0001-04-08': 2, '0001-09-19': 2, '0001-04-14': 2, '0001-10-24': 2, '0001-05-18': 2}\n",
      "i=66. There were 9 entries that more than 2. Entries dict: {'0001-05-16': 2, '0001-12-09': 3, '0001-03-29': 2, '0001-07-12': 2, '0001-01-29': 2, '0001-05-15': 2, '0001-06-01': 2, '0001-01-03': 2, '0001-07-13': 2}\n",
      "i=67. There were 5 entries that more than 2. Entries dict: {'0001-03-28': 2, '0001-02-12': 2, '0001-10-12': 2, '0001-09-03': 2, '0001-03-24': 2}\n",
      "i=68. There were 4 entries that more than 2. Entries dict: {'0001-10-30': 2, '0001-01-11': 2, '0001-01-05': 2, '0001-12-02': 2}\n",
      "i=69. There were 5 entries that more than 2. Entries dict: {'0001-11-22': 2, '0001-08-30': 2, '0001-01-17': 2, '0001-05-23': 2, '0001-08-04': 2}\n",
      "i=70. There were 5 entries that more than 2. Entries dict: {'0001-01-24': 2, '0001-02-01': 2, '0001-05-04': 2, '0001-05-25': 2, '0001-09-21': 2}\n",
      "i=71. There were 8 entries that more than 2. Entries dict: {'0001-12-12': 2, '0001-01-22': 2, '0001-08-23': 2, '0001-03-24': 2, '0001-10-21': 2, '0001-08-24': 2, '0001-02-26': 2, '0001-09-29': 2}\n",
      "i=72. There were 8 entries that more than 2. Entries dict: {'0001-04-26': 2, '0001-05-22': 3, '0001-09-05': 2, '0001-10-14': 2, '0001-06-11': 2, '0001-02-15': 2, '0001-08-19': 2, '0001-01-25': 2}\n",
      "i=73. There were 8 entries that more than 2. Entries dict: {'0001-11-17': 2, '0001-09-26': 2, '0001-11-27': 2, '0001-10-26': 2, '0001-12-04': 2, '0001-05-16': 2, '0001-03-11': 2, '0001-08-13': 2}\n",
      "i=74. There were 6 entries that more than 2. Entries dict: {'0001-05-03': 2, '0001-08-18': 2, '0001-05-12': 2, '0001-07-13': 2, '0001-05-11': 2, '0001-09-24': 2}\n",
      "i=75. There were 6 entries that more than 2. Entries dict: {'0001-08-19': 3, '0001-11-21': 2, '0001-09-24': 2, '0001-04-14': 2, '0001-12-22': 2, '0001-10-20': 2}\n",
      "i=76. There were 5 entries that more than 2. Entries dict: {'0001-09-20': 2, '0001-03-18': 3, '0001-10-10': 2, '0001-06-05': 2, '0001-12-13': 2}\n",
      "i=77. There were 6 entries that more than 2. Entries dict: {'0001-09-23': 3, '0001-10-21': 2, '0001-02-13': 2, '0001-09-19': 2, '0001-03-16': 2, '0001-11-13': 2}\n",
      "i=78. There were 4 entries that more than 2. Entries dict: {'0001-02-10': 2, '0001-07-29': 2, '0001-11-29': 2, '0001-10-23': 2}\n",
      "i=79. There were 8 entries that more than 2. Entries dict: {'0001-11-06': 2, '0001-04-27': 2, '0001-12-15': 2, '0001-08-10': 2, '0001-04-18': 2, '0001-03-05': 2, '0001-10-21': 2, '0001-03-18': 2}\n",
      "i=80. There were 10 entries that more than 2. Entries dict: {'0001-08-20': 2, '0001-07-16': 2, '0001-11-12': 2, '0001-11-07': 2, '0001-02-12': 2, '0001-07-20': 3, '0001-08-29': 2, '0001-08-27': 2, '0001-05-16': 2, '0001-01-31': 2}\n",
      "i=81. There were 12 entries that more than 2. Entries dict: {'0001-08-05': 2, '0001-01-10': 2, '0001-10-27': 2, '0001-10-22': 2, '0001-06-30': 3, '0001-05-26': 3, '0001-01-21': 2, '0001-01-14': 2, '0001-07-13': 2, '0001-04-18': 2, '0001-05-25': 2, '0001-12-02': 2}\n",
      "i=82. There were 6 entries that more than 2. Entries dict: {'0001-05-07': 2, '0001-12-06': 2, '0001-03-04': 2, '0001-10-23': 2, '0001-12-22': 2, '0001-11-04': 2}\n",
      "i=83. There were 5 entries that more than 2. Entries dict: {'0001-10-22': 3, '0001-10-26': 2, '0001-08-12': 2, '0001-10-10': 2, '0001-08-15': 2}\n",
      "i=84. There were 13 entries that more than 2. Entries dict: {'0001-01-28': 2, '0001-12-03': 2, '0001-10-20': 2, '0001-10-26': 2, '0001-06-21': 2, '0001-08-18': 2, '0001-08-30': 3, '0001-07-12': 2, '0001-04-01': 2, '0001-06-08': 2, '0001-04-28': 2, '0001-01-11': 2, '0001-05-01': 2}\n",
      "i=85. There were 9 entries that more than 2. Entries dict: {'0001-09-12': 2, '0001-07-29': 3, '0001-05-08': 2, '0001-07-22': 2, '0001-11-22': 2, '0001-06-21': 2, '0001-10-26': 2, '0001-08-26': 2, '0001-02-03': 2}\n",
      "i=86. There were 13 entries that more than 2. Entries dict: {'0001-12-14': 2, '0001-11-02': 2, '0001-01-10': 2, '0001-08-05': 3, '0001-06-29': 2, '0001-12-12': 2, '0001-02-07': 2, '0001-08-04': 2, '0001-04-14': 2, '0001-10-20': 2, '0001-05-12': 2, '0001-01-23': 2, '0001-05-16': 2}\n",
      "i=87. There were 9 entries that more than 2. Entries dict: {'0001-09-16': 2, '0001-11-28': 2, '0001-12-19': 2, '0001-03-20': 2, '0001-03-17': 2, '0001-11-10': 3, '0001-12-21': 2, '0001-04-28': 2, '0001-07-16': 2}\n",
      "i=88. There were 9 entries that more than 2. Entries dict: {'0001-11-17': 2, '0001-03-11': 2, '0001-05-12': 2, '0001-04-27': 2, '0001-12-01': 2, '0001-02-26': 2, '0001-05-11': 2, '0001-04-25': 2, '0001-01-14': 2}\n",
      "i=89. There were 11 entries that more than 2. Entries dict: {'0001-06-19': 2, '0001-07-12': 2, '0001-08-14': 2, '0001-09-22': 2, '0001-03-04': 2, '0001-10-02': 2, '0001-02-05': 2, '0001-10-13': 2, '0001-12-16': 2, '0001-09-04': 2, '0001-07-18': 2}\n",
      "i=90. There were 9 entries that more than 2. Entries dict: {'0001-01-04': 2, '0001-01-07': 2, '0001-02-13': 2, '0001-09-26': 2, '0001-12-17': 2, '0001-11-12': 2, '0001-05-17': 2, '0001-04-21': 2, '0001-01-03': 2}\n",
      "i=91. There were 8 entries that more than 2. Entries dict: {'0001-01-05': 2, '0001-09-23': 2, '0001-10-31': 2, '0001-06-23': 2, '0001-02-05': 2, '0001-11-05': 2, '0001-04-29': 2, '0001-07-29': 2}\n",
      "i=92. There were 11 entries that more than 2. Entries dict: {'0001-11-15': 2, '0001-09-27': 2, '0001-08-21': 2, '0001-11-21': 2, '0001-03-13': 2, '0001-10-04': 2, '0001-11-09': 2, '0001-04-27': 2, '0001-12-12': 2, '0001-05-18': 2, '0001-12-21': 2}\n",
      "i=93. There were 13 entries that more than 2. Entries dict: {'0001-08-20': 2, '0001-03-13': 2, '0001-08-14': 2, '0001-07-16': 3, '0001-09-08': 2, '0001-05-10': 2, '0001-04-26': 2, '0001-05-02': 3, '0001-09-01': 2, '0001-09-05': 2, '0001-08-07': 2, '0001-12-18': 2, '0001-12-17': 2}\n",
      "i=94. There were 13 entries that more than 2. Entries dict: {'0001-09-02': 2, '0001-04-18': 2, '0001-06-09': 2, '0001-05-25': 2, '0001-07-23': 2, '0001-07-01': 2, '0001-05-14': 2, '0001-03-25': 3, '0001-05-22': 2, '0001-11-25': 2, '0001-08-26': 2, '0001-10-24': 2, '0001-12-06': 2}\n",
      "i=95. There were 8 entries that more than 2. Entries dict: {'0001-10-07': 2, '0001-01-20': 2, '0001-08-19': 2, '0001-04-15': 2, '0001-05-23': 2, '0001-12-14': 3, '0001-03-28': 2, '0001-03-30': 2}\n",
      "i=96. There were 10 entries that more than 2. Entries dict: {'0001-09-01': 2, '0001-08-10': 2, '0001-10-15': 2, '0001-04-14': 2, '0001-12-15': 2, '0001-08-20': 2, '0001-02-11': 2, '0001-06-25': 2, '0001-11-20': 2, '0001-10-12': 2}\n",
      "i=97. There were 13 entries that more than 2. Entries dict: {'0001-09-26': 3, '0001-11-09': 2, '0001-12-03': 3, '0001-11-14': 2, '0001-07-13': 2, '0001-10-06': 2, '0001-06-10': 2, '0001-06-13': 2, '0001-08-26': 2, '0001-06-18': 2, '0001-10-24': 2, '0001-07-20': 2, '0001-03-08': 2}\n",
      "i=98. There were 13 entries that more than 2. Entries dict: {'0001-01-29': 2, '0001-07-16': 2, '0001-05-17': 2, '0001-03-28': 2, '0001-01-02': 2, '0001-02-16': 2, '0001-04-13': 2, '0001-08-26': 2, '0001-09-26': 2, '0001-05-22': 2, '0001-01-19': 2, '0001-01-14': 2, '0001-10-22': 2}\n",
      "i=99. There were 12 entries that more than 2. Entries dict: {'0001-08-10': 2, '0001-12-10': 2, '0001-02-07': 2, '0001-04-18': 2, '0001-10-06': 2, '0001-05-20': 2, '0001-08-06': 2, '0001-12-03': 2, '0001-12-15': 2, '0001-06-25': 2, '0001-07-31': 2, '0001-03-12': 2}\n"
     ]
    }
   ],
   "source": [
    "def probOfSameBirthday(n):\n",
    "    q = 1\n",
    "    for i in range(0, n):\n",
    "        probability = i / 365\n",
    "        q *= (1 - probability)\n",
    "    return 1-q\n",
    "\n",
    "for i in range(23):\n",
    "    print(probOfSameBirthday(i))"
   ],
   "metadata": {
    "collapsed": false
   }
  },
  {
   "cell_type": "code",
   "execution_count": null,
   "outputs": [],
   "source": [
    "from random import randint\n",
    "from datetime import date, datetime, timedelta\n",
    "\n",
    "\n",
    "def generate_date(n):\n",
    "    result = {}\n",
    "    start_date = date(1, 1, 1)\n",
    "    for i in range(n):\n",
    "        birthday = str(start_date + timedelta(days=randint(0,355)))\n",
    "        if birthday not in result:\n",
    "            result[birthday] = 0\n",
    "        result[birthday] += 1\n",
    "    return result\n",
    "\n",
    "def count_entry(payload, occurs_more_equal_than=2):\n",
    "    entries = {}\n",
    "    for item in payload:\n",
    "        if payload[item] >= occurs_more_equal_than:\n",
    "            entries[item] = payload[item]\n",
    "    return entries, len(entries)\n",
    "\n",
    "for i in range(100):\n",
    "    entries, length = count_entry(generate_date(i))\n",
    "    print(f\"i={i}. There were {length} entries that more than 2. Entries dict: {entries}\")"
   ],
   "metadata": {
    "collapsed": false
   }
  }
 ],
 "metadata": {
  "kernelspec": {
   "display_name": "Python 3 (ipykernel)",
   "language": "python",
   "name": "python3"
  },
  "language_info": {
   "codemirror_mode": {
    "name": "ipython",
    "version": 3
   },
   "file_extension": ".py",
   "mimetype": "text/x-python",
   "name": "python",
   "nbconvert_exporter": "python",
   "pygments_lexer": "ipython3",
   "version": "3.9.7"
  },
  "varInspector": {
   "cols": {
    "lenName": 16,
    "lenType": 16,
    "lenVar": 40
   },
   "kernels_config": {
    "python": {
     "delete_cmd_postfix": "",
     "delete_cmd_prefix": "del ",
     "library": "var_list.py",
     "varRefreshCmd": "print(var_dic_list())"
    },
    "r": {
     "delete_cmd_postfix": ") ",
     "delete_cmd_prefix": "rm(",
     "library": "var_list.r",
     "varRefreshCmd": "cat(var_dic_list()) "
    }
   },
   "types_to_exclude": [
    "module",
    "function",
    "builtin_function_or_method",
    "instance",
    "_Feature"
   ],
   "window_display": false
  }
 },
 "nbformat": 4,
 "nbformat_minor": 1
}
