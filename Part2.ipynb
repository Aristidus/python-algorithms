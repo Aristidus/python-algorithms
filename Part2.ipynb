{
 "cells": [
  {
   "cell_type": "markdown",
   "source": [
    "# R-2.3\n",
    "Describe a component from a text-editor GUI and the methods that it encapsulates."
   ],
   "metadata": {
    "collapsed": false
   }
  },
  {
   "cell_type": "code",
   "execution_count": null,
   "outputs": [],
   "source": [],
   "metadata": {
    "collapsed": false
   }
  },
  {
   "cell_type": "markdown",
   "source": [
    "# R-2.4\n",
    "Write a Python class, Flower , that has three instance variables of type str , int , and ﬂoat , that respectively represent the name of the ﬂower, its number of petals, and its price. Your class must include a constructor method that initializes each variable to an appropriate value, and your class should include methods for setting the value of each type, and retrieving the value of each type."
   ],
   "metadata": {
    "collapsed": false
   }
  },
  {
   "cell_type": "code",
   "execution_count": null,
   "outputs": [],
   "source": [
    "class Flower:\n",
    "    def __init__(self):\n",
    "        self.name = \"\"\n",
    "        self.petals = 0\n",
    "        self.price = 0.0\n",
    "\n",
    "    def set_name(self, name: str):\n",
    "        self.name = name\n",
    "\n",
    "    def set_petals(self, petals: int):\n",
    "        self.petals = petals\n",
    "\n",
    "    def set_price(self, price: float):\n",
    "        self.price = price\n",
    "\n",
    "    def get_name(self) -> str:\n",
    "        return self.name\n",
    "\n",
    "    def get_petals(self) -> int:\n",
    "        return self.petals\n",
    "\n",
    "    def get_price(self) -> float:\n",
    "        return self.price\n"
   ],
   "metadata": {
    "collapsed": false
   }
  },
  {
   "cell_type": "markdown",
   "source": [
    "# R-2.5\n",
    "Use the techniques of Section 1.7 to revise the charge and make payment methods of the CreditCard class to ensure that the caller sends a number as a parameter.\n",
    "# R-2.6\n",
    "If the parameter to the make payment method of the CreditCard class were a negative number, that would have the effect of raising the balance on the account. Revise the implementation so that it raises a ValueError if a negative value is sent.\n",
    "# R-2.7\n",
    "The CreditCard class of Section 2.3 initializes the balance of a new account to zero. Modify that class so that a new account can be given a nonzero balance using an optional ﬁfth parameter to the constructor. The four-parameter constructor syntax should continue to produce an account with zero balance."
   ],
   "metadata": {
    "collapsed": false
   },
   "execution_count": 1
  },
  {
   "cell_type": "code",
   "execution_count": 29,
   "outputs": [],
   "source": [
    "class CreditCard:\n",
    "    \"\"\"A consumer credit card.\"\"\"\n",
    "\n",
    "    def __init__ (self , customer, bank, acnt, limit, balance=0):\n",
    "        \"\"\"Create a new credit card instance.\n",
    "\n",
    "        The initial balance is zero.\n",
    "        customer    the name of the customer (e.g., \"John Bowman\" )\n",
    "        bank        the name of the bank (e.g., \"California Savings\" )\n",
    "        acnt        the account identifier (e.g., \"5391 0375 9387 5309\" )\n",
    "        limit       credit limit (measured in dollars)\n",
    "        \"\"\"\n",
    "        self._customer = customer\n",
    "        self._bank = bank\n",
    "        self._account = acnt\n",
    "        self._limit = limit\n",
    "        self._balance = balance\n",
    "\n",
    "    def get_customer(self):\n",
    "        \"\"\"Return name of the customer.\"\"\"\n",
    "        return self._customer\n",
    "\n",
    "    def get_bank(self):\n",
    "        \"\"\"Return the bank s name.\"\"\"\n",
    "        return self._bank\n",
    "\n",
    "    def get_account(self):\n",
    "        \"\"\"Return the card identifying number (typically stored as a string).\"\"\"\n",
    "        return self._account\n",
    "\n",
    "    def get_limit(self):\n",
    "        \"\"\"Return current credit limit.\"\"\"\n",
    "        return self._limit\n",
    "\n",
    "    def get_balance(self):\n",
    "        \"\"\"Return current balance.\"\"\"\n",
    "        return self._balance\n",
    "\n",
    "    def charge(self, price):\n",
    "        \"\"\"Charge given price to the card, assuming sufficient credit limit.\n",
    "        Return True if charge was processed; False if charge was denied.\n",
    "        \"\"\"\n",
    "        if not isinstance(price, (int, float)):\n",
    "            raise TypeError(\"Charge price must be a number\")\n",
    "        if price + self._balance > self._limit:             # if charge would exceed limit,\n",
    "            return False                                    # cannot accept charge\n",
    "        else:\n",
    "            self._balance += price\n",
    "            return True\n",
    "\n",
    "    def make_payment(self, amount):\n",
    "        \"\"\"Process customer payment that reduces balance.\"\"\"\n",
    "        if not isinstance(amount, (int, float)):\n",
    "            raise TypeError(\"Payment amount must be a number\")\n",
    "        if amount < 0:                                          # if amount is negative,\n",
    "            raise ValueError(\"Payment amount can't be negative\")                                        # cannot accept charge\n",
    "        self._balance -= amount\n"
   ],
   "metadata": {
    "collapsed": false
   }
  },
  {
   "cell_type": "code",
   "execution_count": 21,
   "outputs": [
    {
     "ename": "TypeError",
     "evalue": "Charge price must be a number",
     "output_type": "error",
     "traceback": [
      "\u001B[1;31m---------------------------------------------------------------------------\u001B[0m",
      "\u001B[1;31mTypeError\u001B[0m                                 Traceback (most recent call last)",
      "Cell \u001B[1;32mIn [21], line 10\u001B[0m\n\u001B[0;32m      8\u001B[0m card\u001B[38;5;241m.\u001B[39mmake_payment(\u001B[38;5;241m10\u001B[39m)\n\u001B[0;32m      9\u001B[0m card\u001B[38;5;241m.\u001B[39mget_balance()\n\u001B[1;32m---> 10\u001B[0m card\u001B[38;5;241m.\u001B[39mcharge(\u001B[38;5;124m\"\u001B[39m\u001B[38;5;124mb\u001B[39m\u001B[38;5;124m\"\u001B[39m)\n\u001B[0;32m     11\u001B[0m card\u001B[38;5;241m.\u001B[39mmake_payment(\u001B[38;5;124m\"\u001B[39m\u001B[38;5;124mb\u001B[39m\u001B[38;5;124m\"\u001B[39m)\n",
      "Cell \u001B[1;32mIn [14], line 44\u001B[0m, in \u001B[0;36mCreditCard.charge\u001B[1;34m(self, price)\u001B[0m\n\u001B[0;32m     40\u001B[0m \u001B[38;5;124;03m\"\"\"Charge given price to the card, assuming sufficient credit limit.\u001B[39;00m\n\u001B[0;32m     41\u001B[0m \u001B[38;5;124;03mReturn True if charge was processed; False if charge was denied.\u001B[39;00m\n\u001B[0;32m     42\u001B[0m \u001B[38;5;124;03m\"\"\"\u001B[39;00m\n\u001B[0;32m     43\u001B[0m \u001B[38;5;28;01mif\u001B[39;00m \u001B[38;5;129;01mnot\u001B[39;00m \u001B[38;5;28misinstance\u001B[39m(price, (\u001B[38;5;28mint\u001B[39m, \u001B[38;5;28mfloat\u001B[39m)):\n\u001B[1;32m---> 44\u001B[0m     \u001B[38;5;28;01mraise\u001B[39;00m \u001B[38;5;167;01mTypeError\u001B[39;00m(\u001B[38;5;124m\"\u001B[39m\u001B[38;5;124mCharge price must be a number\u001B[39m\u001B[38;5;124m\"\u001B[39m)\n\u001B[0;32m     45\u001B[0m \u001B[38;5;28;01mif\u001B[39;00m price \u001B[38;5;241m+\u001B[39m \u001B[38;5;28mself\u001B[39m\u001B[38;5;241m.\u001B[39m_balance \u001B[38;5;241m>\u001B[39m \u001B[38;5;28mself\u001B[39m\u001B[38;5;241m.\u001B[39m_limit:         \u001B[38;5;66;03m# if charge would exceed limit,\u001B[39;00m\n\u001B[0;32m     46\u001B[0m     \u001B[38;5;28;01mreturn\u001B[39;00m \u001B[38;5;28;01mFalse\u001B[39;00m                                \u001B[38;5;66;03m# cannot accept charge\u001B[39;00m\n",
      "\u001B[1;31mTypeError\u001B[0m: Charge price must be a number"
     ]
    }
   ],
   "source": [
    "card = CreditCard(\n",
    "    customer=\"John Bowman\",\n",
    "    bank=\"California Savings\",\n",
    "    acnt=\"5391 0375 9387 5309\",\n",
    "    limit=10000\n",
    ")\n",
    "card.charge(100)\n",
    "card.make_payment(10)\n",
    "card.get_balance()\n",
    "card.charge(\"b\")\n",
    "card.make_payment(\"b\")"
   ],
   "metadata": {
    "collapsed": false
   }
  },
  {
   "cell_type": "markdown",
   "source": [
    "# R-2.6"
   ],
   "metadata": {
    "collapsed": false
   }
  },
  {
   "cell_type": "code",
   "execution_count": 25,
   "outputs": [
    {
     "ename": "ValueError",
     "evalue": "Payment amount can't be negative",
     "output_type": "error",
     "traceback": [
      "\u001B[1;31m---------------------------------------------------------------------------\u001B[0m",
      "\u001B[1;31mValueError\u001B[0m                                Traceback (most recent call last)",
      "Cell \u001B[1;32mIn [25], line 10\u001B[0m\n\u001B[0;32m      8\u001B[0m card\u001B[38;5;241m.\u001B[39mmake_payment(\u001B[38;5;241m10\u001B[39m)\n\u001B[0;32m      9\u001B[0m card\u001B[38;5;241m.\u001B[39mget_balance()\n\u001B[1;32m---> 10\u001B[0m card\u001B[38;5;241m.\u001B[39mmake_payment(\u001B[38;5;241m-\u001B[39m\u001B[38;5;241m10\u001B[39m)\n",
      "Cell \u001B[1;32mIn [24], line 56\u001B[0m, in \u001B[0;36mCreditCard.make_payment\u001B[1;34m(self, amount)\u001B[0m\n\u001B[0;32m     54\u001B[0m     \u001B[38;5;28;01mraise\u001B[39;00m \u001B[38;5;167;01mTypeError\u001B[39;00m(\u001B[38;5;124m\"\u001B[39m\u001B[38;5;124mPayment amount must be a number\u001B[39m\u001B[38;5;124m\"\u001B[39m)\n\u001B[0;32m     55\u001B[0m \u001B[38;5;28;01mif\u001B[39;00m amount \u001B[38;5;241m<\u001B[39m \u001B[38;5;241m0\u001B[39m:                                          \u001B[38;5;66;03m# if amount is negative,\u001B[39;00m\n\u001B[1;32m---> 56\u001B[0m     \u001B[38;5;28;01mraise\u001B[39;00m \u001B[38;5;167;01mValueError\u001B[39;00m(\u001B[38;5;124m\"\u001B[39m\u001B[38;5;124mPayment amount can\u001B[39m\u001B[38;5;124m'\u001B[39m\u001B[38;5;124mt be negative\u001B[39m\u001B[38;5;124m\"\u001B[39m)                                        \u001B[38;5;66;03m# cannot accept charge\u001B[39;00m\n\u001B[0;32m     57\u001B[0m \u001B[38;5;28mself\u001B[39m\u001B[38;5;241m.\u001B[39m_balance \u001B[38;5;241m-\u001B[39m\u001B[38;5;241m=\u001B[39m amount\n",
      "\u001B[1;31mValueError\u001B[0m: Payment amount can't be negative"
     ]
    }
   ],
   "source": [
    "card = CreditCard(\n",
    "    customer=\"John Bowman\",\n",
    "    bank=\"California Savings\",\n",
    "    acnt=\"5391 0375 9387 5309\",\n",
    "    limit=10000\n",
    ")\n",
    "card.charge(100)\n",
    "card.make_payment(10)\n",
    "card.get_balance()\n",
    "card.make_payment(-10)"
   ],
   "metadata": {
    "collapsed": false
   }
  },
  {
   "cell_type": "markdown",
   "source": [
    "# R-2.7"
   ],
   "metadata": {
    "collapsed": false
   }
  },
  {
   "cell_type": "code",
   "execution_count": 31,
   "outputs": [
    {
     "data": {
      "text/plain": "0"
     },
     "execution_count": 31,
     "metadata": {},
     "output_type": "execute_result"
    }
   ],
   "source": [
    "card = CreditCard(\n",
    "    customer=\"John Bowman\",\n",
    "    bank=\"California Savings\",\n",
    "    acnt=\"5391 0375 9387 5309\",\n",
    "    limit=10000,\n",
    "    balance=0\n",
    ")\n",
    "card.get_balance()\n"
   ],
   "metadata": {
    "collapsed": false
   }
  },
  {
   "cell_type": "markdown",
   "source": [
    "# R-2.8\n",
    "Modify the declaration of the ﬁrst for loop in the CreditCard tests, from Code Fragment 2.3, so that it will eventually cause exactly one of the three credit cards to go over its credit limit. Which credit card is it?\n",
    "\n",
    "\n",
    "Credit card # 3 (wallet[2]) will exceed the limit on the 58 th index.\n",
    "According to the tempo of the charging from each wallet:\n",
    "wallet[0] = 1\n",
    "wallet[1] = 2\n",
    "wallet[3] = 3\n",
    "To reach expiration of all tree wallets we need to set limit:\n",
    "wallet[0] = $2500 \\times $1 = 2500\n",
    "wallet[1] = $2500 \\times $2 = 5000\n",
    "wallet[2] = $2500 \\times $3 = 7500\n",
    "We can adjust the coefficients of tempo with the current limits:\n",
    "wallet[0] = 2500 = K1\n",
    "wallet[1] = 3500 / 2500 = 1,4\n",
    "wallet[2] = 5000 / 3500 = 1,42857"
   ],
   "metadata": {
    "collapsed": false
   }
  },
  {
   "cell_type": "code",
   "execution_count": 61,
   "outputs": [
    {
     "name": "stdout",
     "output_type": "stream",
     "text": [
      "1653\n",
      "3306\n",
      "4959\n"
     ]
    }
   ],
   "source": [
    "wallet = []\n",
    "wallet.append(CreditCard(\"John Bowman\", \"California Savings\", \"5391 0375 9387 5309 2500\", 2500))\n",
    "wallet.append(CreditCard(\"John Bowman\", \"California Federal\", \"3485 0399 3395 1954 3500\", 3500))\n",
    "wallet.append(CreditCard(\"John Bowman\", \"California Finance\", \"5391 0375 9387 5309 5000\", 5000))\n",
    "for val in range(1, 58):\n",
    "    wallet[0].charge(val)\n",
    "    wallet[1].charge(2*val)\n",
    "    wallet[2].charge(3*val)\n",
    "for i in range(len(wallet)):\n",
    "    print(wallet[i].get_balance())"
   ],
   "metadata": {
    "collapsed": false
   }
  },
  {
   "cell_type": "markdown",
   "source": [
    "# R-2.9\n",
    "Implement the sub method for the Vector class of Section 2.3.3, so that the expression u − v returns a new vector instance representing the difference between two vectors.\n",
    "# R-2.10\n",
    "Implement the neg method for the Vector class of Section 2.3.3, so that the expression − v returns a new vector instance whose coordinates are all the negated values of the respective coordinates of v\n",
    "# R-2.11\n",
    "In Section 2.3.3, we note that our Vector class supports a syntax such as v = u + [5, 3, 10, − 2, 1] , in which the sum of a vector and list returns a new vector. However, the syntax v = [5, 3, 10, − 2, 1] + u is illegal. Explain how the Vector class definition can be revised so that this syntax generates a new vector.\n",
    "\n",
    "We need to populate __radd__ method\n",
    "# R-2.12\n",
    "Implement the mul method for the Vector class of Section 2.3.3, so that the expression v x 3 returns a new vector with coordinates that are 3 times the respective coordinates of v\n",
    "# R-2.13\n",
    "Exercise R-2.12 asks for an implementation of mul , for the Vector class of Section 2.3.3, to provide support for the syntax v x 3 . Implement the rmul method, to provide additional support for syntax 3 x v\n",
    "# R-2.14\n",
    "Implement the mul method for the Vector class of Section 2.3.3, so that the expression u v returns a scalar that represents the dot product of the vectors, that is, <formula>\n",
    "# C-2.25 This is linked with R2.11-14\n",
    "Exercise R-2.12 uses the __mul_ method to support multiplying a Vector by a number, while Exercise R-2.14 uses the mul method to support computing a dot product of two vectors. Give a single implementation of Vector. __mul__ that uses run-time type checking to support both syntaxes u x v and u x k , where u and v designate vector instances and k represents a number.\n",
    "# R-2.15\n",
    "The Vector class of Section 2.3.3 provides a constructor that takes an integer d , and produces a d-dimensional vector with all coordinates equal to 0. Another convenient form for creating a new vector would be to send the constructor a parameter that is some iterable type representing a sequence of numbers, and to create a vector with dimension equal to the length of that sequence and coordinates equal to the sequence values.\n",
    "..."
   ],
   "metadata": {
    "collapsed": false
   }
  },
  {
   "cell_type": "code",
   "execution_count": 116,
   "outputs": [],
   "source": [
    "from typing import Union\n",
    "\n",
    "class Vector:\n",
    "    \"\"\"Represent a vector in a multidimensional space.\"\"\"\n",
    "\n",
    "    def __init__(self, d: Union[list, int], def_value: int=0):\n",
    "        \"\"\"Create d-dimensional vector of zeros.\"\"\"\n",
    "        if isinstance(d, (list,)):\n",
    "            self._coords = [element for element in d]\n",
    "        else:\n",
    "            self._coords = [def_value] * d\n",
    "\n",
    "    def __len__(self):\n",
    "        \"\"\"Return the dimension of the vector.\"\"\"\n",
    "        return len(self._coords)\n",
    "\n",
    "    def __getitem__ (self, j):\n",
    "        \"\"\"Return jth coordinate of vector.\"\"\"\n",
    "        return self._coords[j]\n",
    "\n",
    "    def __setitem__ (self, j, val):\n",
    "        \"\"\"Set jth coordinate of vector to given value.\"\"\"\n",
    "        self._coords[j] = val\n",
    "\n",
    "    def __add__ (self, other):\n",
    "        \"\"\"Return sum of two vectors.\"\"\"\n",
    "        self._check_dimension(other)\n",
    "        result = Vector(len(self))                      # start with vector of zeros\n",
    "        for j in range(len(self)):\n",
    "            result[j] = self[j] + other[j]\n",
    "        return result\n",
    "\n",
    "    def __radd__ (self, other):\n",
    "        \"\"\"Return rsum of two vectors.\"\"\"\n",
    "        self.__add__(other)\n",
    "\n",
    "    def __sub__(self, other):\n",
    "        \"\"\"Return difference of two vectors.\"\"\"\n",
    "        self._check_dimension(other)\n",
    "        result = Vector(len(self))                      # start with vector of zeros\n",
    "        for j in range(len(self)):\n",
    "            result[j] = self[j] - other[j]\n",
    "        return result\n",
    "\n",
    "    def __mul__(self, other):\n",
    "        \"\"\"Return multiplication of two vectors.\"\"\"\n",
    "                              # start with vector of zeros\n",
    "        if type(self) == type(other):\n",
    "            result = 0\n",
    "            self._check_dimension(other)\n",
    "            for i in range(len(self)):\n",
    "                result += self[i] * other[i]\n",
    "        else:\n",
    "            result = Vector(len(self))\n",
    "            for j in range(len(self)):\n",
    "                result[j] = self[j] * other\n",
    "        return result\n",
    "\n",
    "    def __rmul__(self, other):\n",
    "        self.__mul__(other)\n",
    "\n",
    "    def __neg__(self):\n",
    "        \"\"\"Return negated vector.\"\"\"\n",
    "        result = Vector(len(self))                      # start with vector of zeros\n",
    "        for j in range(len(self)):\n",
    "            result[j] = -self[j]\n",
    "        return result\n",
    "\n",
    "    def __eq__ (self, other):\n",
    "        \"\"\"Return True if vector has same coordinates as other.\"\"\"\n",
    "        return self._coords == other._coords\n",
    "\n",
    "    def __ne__ (self, other):\n",
    "        \"\"\"Return True if vector differs from other.\"\"\"\n",
    "        return not self == other                        # rely on existing __eq__ definition\n",
    "\n",
    "    def __str__ (self):\n",
    "        \"\"\"Produce string representation of vector.\"\"\"\n",
    "        return \"<\" + str(self._coords)[1:-1] + \">\"      # adapt list representation\n",
    "\n",
    "    def _check_dimension(self, other):\n",
    "        if len(self) != len(other):                     # relies on len method\n",
    "            raise ValueError(\"dimensions must agree\")"
   ],
   "metadata": {
    "collapsed": false
   }
  },
  {
   "cell_type": "code",
   "execution_count": 94,
   "outputs": [
    {
     "name": "stdout",
     "output_type": "stream",
     "text": [
      "Collecting numpy\n",
      "  Downloading numpy-1.23.4-cp38-cp38-win_amd64.whl (14.7 MB)\n",
      "Installing collected packages: numpy\n",
      "Successfully installed numpy-1.23.4\n",
      "Note: you may need to restart the kernel to use updated packages.\n"
     ]
    },
    {
     "name": "stderr",
     "output_type": "stream",
     "text": [
      "WARNING: You are using pip version 20.2.3; however, version 22.3 is available.\n",
      "You should consider upgrading via the 'c:\\users\\dsmorozov\\appdata\\local\\programs\\python\\python38\\python.exe -m pip install --upgrade pip' command.\n"
     ]
    }
   ],
   "source": [
    "pip install numpy"
   ],
   "metadata": {
    "collapsed": false
   }
  },
  {
   "cell_type": "code",
   "execution_count": 118,
   "outputs": [
    {
     "name": "stdout",
     "output_type": "stream",
     "text": [
      "45\n",
      "<0, 46, 0, 0, 90>\n",
      "<0, 23, 0, 0, 45>\n",
      "<0, -23, 0, 0, -45>\n",
      "<5, 49, 10, -2, 91>\n",
      "<0, 69, 0, 0, 135>\n",
      "<0, 69, 0, 0, 135>\n",
      "Numpy result: 550\n",
      "My result: 550\n",
      "<1, 2, 3, 4, 5>\n",
      "<1, 1, 1, 1, 1, 1>\n"
     ]
    }
   ],
   "source": [
    "import numpy as np\n",
    "\n",
    "v = Vector(5)\n",
    "v[1] = 23\n",
    "v[-1] = 45\n",
    "print(v[4])\n",
    "u = v + v\n",
    "print(u)\n",
    "\n",
    "# R-2.9\n",
    "subtraction = u - v\n",
    "print(subtraction)\n",
    "\n",
    "# R-2.10\n",
    "negate = -v\n",
    "print(negate)\n",
    "\n",
    "# R-2.11\n",
    "radd = u + [5, 3, 10, -2, 1]\n",
    "print(radd)\n",
    "\n",
    "# R-2.12\n",
    "mul = v * 3\n",
    "print(mul)\n",
    "\n",
    "# R-2.13\n",
    "rmul = 3 * v\n",
    "print(mul)\n",
    "\n",
    "# R-2.14 and # C-2.25\n",
    "dot1 = [1, 2, 3, 4, 5]\n",
    "dot2 = [10, 20, 30, 40, 50]\n",
    "print(f\"Numpy result: {np.vdot(dot1, dot2)}\")\n",
    "vdot1 = Vector(5) + [1, 2, 3, 4, 5]\n",
    "vdot2 = Vector(5) + [10, 20, 30, 40, 50]\n",
    "dot_product = vdot1 * vdot2\n",
    "print(f\"My result: {dot_product}\")\n",
    "\n",
    "# R-2.15\n",
    "print(Vector([1, 2, 3, 4, 5]))\n",
    "print(Vector(6,1))"
   ],
   "metadata": {
    "collapsed": false
   }
  },
  {
   "cell_type": "markdown",
   "source": [
    "# R-2.15\n",
    "# R-2.16\n",
    "# R-2.17\n",
    "# R-2.19\n",
    "# R-2.20\n",
    "# R-2.21\n",
    "# R-2.22\n",
    "# R-2.23\n",
    "# C-2.24 -> use application like STARUML\n",
    "# C-2.26\n",
    "# C-2.27\n",
    "# P-2.33\n",
    "# P-2.36 (P2.37 Nice 2 have category, but extends P2.36 with extra stuff)"
   ],
   "metadata": {
    "collapsed": false
   }
  }
 ],
 "metadata": {
  "kernelspec": {
   "display_name": "Python 3",
   "language": "python",
   "name": "python3"
  },
  "language_info": {
   "codemirror_mode": {
    "name": "ipython",
    "version": 2
   },
   "file_extension": ".py",
   "mimetype": "text/x-python",
   "name": "python",
   "nbconvert_exporter": "python",
   "pygments_lexer": "ipython2",
   "version": "2.7.6"
  }
 },
 "nbformat": 4,
 "nbformat_minor": 0
}
